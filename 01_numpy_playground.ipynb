{
 "cells": [
  {
   "metadata": {
    "ExecuteTime": {
     "end_time": "2025-06-02T04:18:09.096548Z",
     "start_time": "2025-06-02T04:18:09.008721Z"
    }
   },
   "cell_type": "code",
   "source": "import numpy as np",
   "id": "148fa9c9440dbf84",
   "outputs": [],
   "execution_count": 1
  },
  {
   "metadata": {
    "ExecuteTime": {
     "end_time": "2025-06-02T04:28:47.505037Z",
     "start_time": "2025-06-02T04:28:47.502463Z"
    }
   },
   "cell_type": "code",
   "source": [
    "# np.eye returns a 2-D array with ones on the diagonal and zeros elsewhere.\n",
    "np.eye(5)"
   ],
   "id": "f94f89fe11981f09",
   "outputs": [
    {
     "data": {
      "text/plain": [
       "array([[1., 0., 0., 0., 0.],\n",
       "       [0., 1., 0., 0., 0.],\n",
       "       [0., 0., 1., 0., 0.],\n",
       "       [0., 0., 0., 1., 0.],\n",
       "       [0., 0., 0., 0., 1.]])"
      ]
     },
     "execution_count": 5,
     "metadata": {},
     "output_type": "execute_result"
    }
   ],
   "execution_count": 5
  },
  {
   "metadata": {
    "ExecuteTime": {
     "end_time": "2025-06-02T04:32:26.768380Z",
     "start_time": "2025-06-02T04:32:26.764821Z"
    }
   },
   "cell_type": "code",
   "source": [
    "a = np.random.randint(low=-3, high=25, size=(3, 7))\n",
    "a"
   ],
   "id": "51f7a53dae2a3db",
   "outputs": [
    {
     "data": {
      "text/plain": [
       "array([[ 5,  0,  4, 16, 21, 14, 20],\n",
       "       [ 2, 11, -1,  8, 19, 14, 23],\n",
       "       [ 0, 12,  5,  2, 10, 20, 14]])"
      ]
     },
     "execution_count": 7,
     "metadata": {},
     "output_type": "execute_result"
    }
   ],
   "execution_count": 7
  },
  {
   "metadata": {
    "ExecuteTime": {
     "end_time": "2025-06-02T04:32:57.875880Z",
     "start_time": "2025-06-02T04:32:57.873673Z"
    }
   },
   "cell_type": "code",
   "source": "a[0, 3]",
   "id": "209cdc888d94e7ed",
   "outputs": [
    {
     "data": {
      "text/plain": [
       "np.int64(16)"
      ]
     },
     "execution_count": 8,
     "metadata": {},
     "output_type": "execute_result"
    }
   ],
   "execution_count": 8
  },
  {
   "metadata": {
    "ExecuteTime": {
     "end_time": "2025-06-02T04:33:33.114829Z",
     "start_time": "2025-06-02T04:33:33.112655Z"
    }
   },
   "cell_type": "code",
   "source": "a[:, 2]",
   "id": "6bffce7429d600c8",
   "outputs": [
    {
     "data": {
      "text/plain": [
       "array([ 4, -1,  5])"
      ]
     },
     "execution_count": 10,
     "metadata": {},
     "output_type": "execute_result"
    }
   ],
   "execution_count": 10
  },
  {
   "metadata": {
    "ExecuteTime": {
     "end_time": "2025-06-02T04:41:09.396412Z",
     "start_time": "2025-06-02T04:41:09.392659Z"
    }
   },
   "cell_type": "code",
   "source": [
    "# Access every second column starting from column 0\n",
    "a[:, ::2]"
   ],
   "id": "ab569a0c9b08af88",
   "outputs": [
    {
     "data": {
      "text/plain": [
       "array([[ 5,  4, 21, 20],\n",
       "       [ 2, -1, 19, 23],\n",
       "       [ 0,  5, 10, 14]])"
      ]
     },
     "execution_count": 12,
     "metadata": {},
     "output_type": "execute_result"
    }
   ],
   "execution_count": 12
  },
  {
   "metadata": {
    "ExecuteTime": {
     "end_time": "2025-06-02T05:17:45.544845Z",
     "start_time": "2025-06-02T05:17:45.540995Z"
    }
   },
   "cell_type": "code",
   "source": "a.max(axis=0)    # max element in each column",
   "id": "97c7f2322068cef9",
   "outputs": [
    {
     "data": {
      "text/plain": [
       "array([ 5, 12,  5, 16, 21, 20, 23])"
      ]
     },
     "execution_count": 14,
     "metadata": {},
     "output_type": "execute_result"
    }
   ],
   "execution_count": 14
  },
  {
   "metadata": {
    "ExecuteTime": {
     "end_time": "2025-06-02T05:20:45.353508Z",
     "start_time": "2025-06-02T05:20:45.351295Z"
    }
   },
   "cell_type": "code",
   "source": "a.max(axis=1)",
   "id": "235c89db214b9ea5",
   "outputs": [
    {
     "data": {
      "text/plain": [
       "array([21, 23, 20])"
      ]
     },
     "execution_count": 15,
     "metadata": {},
     "output_type": "execute_result"
    }
   ],
   "execution_count": 15
  },
  {
   "metadata": {
    "ExecuteTime": {
     "end_time": "2025-06-02T05:20:55.279108Z",
     "start_time": "2025-06-02T05:20:55.276793Z"
    }
   },
   "cell_type": "code",
   "source": "a.sum(axis=0)",
   "id": "be63bb4889cf7ada",
   "outputs": [
    {
     "data": {
      "text/plain": [
       "array([ 7, 23,  8, 26, 50, 48, 57])"
      ]
     },
     "execution_count": 16,
     "metadata": {},
     "output_type": "execute_result"
    }
   ],
   "execution_count": 16
  },
  {
   "metadata": {
    "ExecuteTime": {
     "end_time": "2025-06-02T06:28:05.603694Z",
     "start_time": "2025-06-02T06:28:05.599363Z"
    }
   },
   "cell_type": "code",
   "source": [
    "a = np.array([1, 2, 3, 4])\n",
    "b = np.zeros(4)\n",
    "\n",
    "np.concatenate((a, b, np.array([4, 3, 2, 1])))    # np.concatenate takes a tuple of arrays"
   ],
   "id": "efbb4b6b3cabbd37",
   "outputs": [
    {
     "data": {
      "text/plain": [
       "array([1., 2., 3., 4., 0., 0., 0., 0., 4., 3., 2., 1.])"
      ]
     },
     "execution_count": 19,
     "metadata": {},
     "output_type": "execute_result"
    }
   ],
   "execution_count": 19
  },
  {
   "metadata": {},
   "cell_type": "code",
   "outputs": [],
   "execution_count": null,
   "source": "",
   "id": "4108f4c66df633ef"
  }
 ],
 "metadata": {
  "kernelspec": {
   "display_name": "Python 3",
   "language": "python",
   "name": "python3"
  },
  "language_info": {
   "codemirror_mode": {
    "name": "ipython",
    "version": 2
   },
   "file_extension": ".py",
   "mimetype": "text/x-python",
   "name": "python",
   "nbconvert_exporter": "python",
   "pygments_lexer": "ipython2",
   "version": "2.7.6"
  }
 },
 "nbformat": 4,
 "nbformat_minor": 5
}
